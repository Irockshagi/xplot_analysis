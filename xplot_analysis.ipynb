{
 "metadata": {
  "name": "",
  "signature": "sha256:282c845d39483229dc9d904a55587acd908162afc3b3b2331c94fd7d288f98cf"
 },
 "nbformat": 3,
 "nbformat_minor": 0,
 "worksheets": [
  {
   "cells": [
    {
     "cell_type": "heading",
     "level": 1,
     "metadata": {},
     "source": [
      "Cross plot analysis using iPython Notebook"
     ]
    },
    {
     "cell_type": "heading",
     "level": 4,
     "metadata": {},
     "source": [
      "By : Leonard Lisapaly - The Indonesian Rock Physics Society, The Indonesian Geophysicists Association"
     ]
    },
    {
     "cell_type": "heading",
     "level": 2,
     "metadata": {},
     "source": [
      "\n",
      "Introduction"
     ]
    },
    {
     "cell_type": "markdown",
     "metadata": {},
     "source": [
      "Cross plot analysis of elastic logs is a basic and important analysis we should do to understand the characters of oil and gas reservoirs before we go further to the advanced analysis such as seismic inversion or AVO studies. For example, we crossplot P-impedance vs S-impedance, P-impedance vs Vp/Vs, or LambdaRho vs MuRho, and color the scattered data by another log to distinguish between one lithology and the others. The log used for coloring the data is usually petrophysics log such as gamma ray, resistivity, water saturation, or porosity. Because the elastic logs are related to the seismic amplitudes, this cross plot exercise may give us understanding of reservoir properties from seismic amplitude.\n",
      "\n",
      "Here, the exercise is divided into several parts: loading the function for cross plotting, loading the LAS file, calculating some derivative logs, and generate the cross plot. Let us start by loading the prepared function for cross plotting. To load the function, we simply click on the cell below, and the click on \"Run Cell\" (triangle) button in the Toolbar above. By doing this, we introduce the function so all the cells below can recognize and use it for cross plotting. Click on \"Cell -> Run\" will execute all the cells below. Later on, if we want to change certain parameters for cross plotting, we can just run a single cell."
     ]
    },
    {
     "cell_type": "code",
     "collapsed": false,
     "input": [
      "def myxplot(dep,dep1,dep2,x,y,z,dsize,cbar,xlab,ylab):\n",
      "    import matplotlib.pyplot as plt\n",
      "    %matplotlib inline\n",
      "    \n",
      "    ndat = len(dep)\n",
      "    xx = []; yy = []; zz = []\n",
      "    for i in range(0,ndat-1):\n",
      "        if (dep[i]>=dep1 and dep[i]<=dep2):\n",
      "            xx.append(x[i])\n",
      "            yy.append(y[i])\n",
      "            zz.append(z[i])\n",
      "    \n",
      "    fig = plt.figure()\n",
      "    fig.set_size_inches(8,6)\n",
      "    cmap = plt.get_cmap(cbar)\n",
      "    props = dict(edgecolors='None')\n",
      "    plt.scatter(xx,yy,dsize,zz,'o',cbar,**props)\n",
      "    plt.xlabel(xlab)\n",
      "    plt.ylabel(ylab)\n",
      "    plt.colorbar()\n",
      "    return"
     ],
     "language": "python",
     "metadata": {},
     "outputs": [],
     "prompt_number": 1
    },
    {
     "cell_type": "markdown",
     "metadata": {},
     "source": [
      "As suggested, \"Run Cell\" the cell containing the cross plot function above.\n",
      "\n",
      "The parameters recognized by the function are:\n",
      "\n",
      "- dep : can be measured depth (MD), true vertical depth (TVD), or true vertical depth subsea (TVDSS)\n",
      "- dep1 : the depth of top of interval we want to cross plot\n",
      "- dep2 : the depth of base of interval we want to cross plot\n",
      "- x : log for horizontal axis (x-axis)\n",
      "- y : log for vertical axis (y-axis)\n",
      "- z : log for color coding\n",
      "- dsize : the size of dots in cross plot window\n",
      "- xlab : label for x-axis\n",
      "- ylab : label for y-aixs"
     ]
    },
    {
     "cell_type": "markdown",
     "metadata": {},
     "source": [
      "Loading the LAS file (well data) can done by calling the LASReader from las.py that can be downloaded from internet. This las.py file MUST BE in the same folder with your iPython Notebook script.\n",
      "\n",
      "Here, the file to be read is well_2.las (you can use your own LAS file). Before we read the LAS file, it is important to understand the logs exist in the LAS file. To do this, view the LAS file by Notepad or Wordpad and look for the part containing the curve information as shown below:\n",
      "\n",
      "    ~Curve Information Section\n",
      "    #MNEM.UNIT    API CODE                     : Curve description\n",
      "    #---.-----    --------                     : -----------------\n",
      "    DEPT .M                                    : \n",
      "    Vp   .KM/S\t\t\t\t\t\t           : Vp\n",
      "    Vs .KM/S                                   : Vs\n",
      "    RHOB .G/C3                                 : Bulk Density\n",
      "    GR   .GAPI                                 : Gamma Ray\n",
      "    NPHI .PU                                   : Thermal Neutron Porosity (original Ratio Method) \n",
      "\n",
      "The curve information above shows logs exist in the LAS file and we will load the logs with the name 'DEPT', 'Vp', 'Vs', 'RHOB', 'GR', and 'NPHI'. The units of the logs follow the names.\n",
      "\n",
      "The code below shows how to load the data and assign the logs to arrays with easily recognized names. The 'print depmin,depmax' command will tell you the minimum and maximum depth of the data recording."
     ]
    },
    {
     "cell_type": "code",
     "collapsed": false,
     "input": [
      "import numpy as np\n",
      "from las import LASReader\n",
      "\n",
      "inpdat = LASReader('well_2.las',null_subs = np.nan)\n",
      "\n",
      "depmin = inpdat.start\n",
      "depmax = inpdat.stop\n",
      "print depmin,depmax\n",
      "\n",
      "dep = inpdat.data['DEPT']\n",
      "vp = inpdat.data['Vp']\n",
      "vs = inpdat.data['Vs']\n",
      "rho = inpdat.data['RHOB']\n",
      "gr = inpdat.data['GR']\n",
      "nphi = inpdat.data['NPHI']"
     ],
     "language": "python",
     "metadata": {},
     "outputs": [
      {
       "output_type": "stream",
       "stream": "stdout",
       "text": [
        "2013.0 2641.0\n"
       ]
      }
     ],
     "prompt_number": 2
    },
    {
     "cell_type": "markdown",
     "metadata": {},
     "source": [
      "We are going to cross plot elastic logs such as P-impedance and Vp/Vs to observe the separation of lithology. Therefore, we need to calculate P-impedance and Vp/Vs. This is simply done bu running the commands in the cell below. The constant number of 1000 is to convert the P-velocity from km/s as shown by the curve information above to be m/s. The unit of P-impedance is now g/cc*m/s"
     ]
    },
    {
     "cell_type": "code",
     "collapsed": false,
     "input": [
      "ai = rho*vp*1000\n",
      "vpvs = vp/vs"
     ],
     "language": "python",
     "metadata": {},
     "outputs": [],
     "prompt_number": 3
    },
    {
     "cell_type": "markdown",
     "metadata": {},
     "source": [
      "Following the description of cross plot function above, we now try to cross plot P-impedance (ai) and Vp/Vs (vpvs) colored by gamma ray (gr). For this exercise, we cross plot all the data, so we use depmin and depmax as the interval limits. The size of the dots is 80, color scale to be used is gist_rainbow, label for X-axis is 'P-Impedance (g/cc*m/s)', and label for Y-axis is 'Vp/Vs'. To obtain the list of the color scale, you can use arbitrary words not recognized such as 'aaa'. An error message will appear telling you that the color scale is not known together with the list of available color scale."
     ]
    },
    {
     "cell_type": "code",
     "collapsed": false,
     "input": [
      "myxplot(dep,depmin,depmax,ai,vpvs,gr,80,'gist_rainbow','P-Impedance (g/cc*m/s)','Vp/Vs')"
     ],
     "language": "python",
     "metadata": {},
     "outputs": [
      {
       "ename": "ImportError",
       "evalue": "Matplotlib backend_wx and backend_wxagg require wxPython >=2.8",
       "output_type": "pyerr",
       "traceback": [
        "\u001b[1;31m---------------------------------------------------------------------------\u001b[0m\n\u001b[1;31mImportError\u001b[0m                               Traceback (most recent call last)",
        "\u001b[1;32m<ipython-input-4-2a5de85ada07>\u001b[0m in \u001b[0;36m<module>\u001b[1;34m()\u001b[0m\n\u001b[1;32m----> 1\u001b[1;33m \u001b[0mmyxplot\u001b[0m\u001b[1;33m(\u001b[0m\u001b[0mdep\u001b[0m\u001b[1;33m,\u001b[0m\u001b[0mdepmin\u001b[0m\u001b[1;33m,\u001b[0m\u001b[0mdepmax\u001b[0m\u001b[1;33m,\u001b[0m\u001b[0mai\u001b[0m\u001b[1;33m,\u001b[0m\u001b[0mvpvs\u001b[0m\u001b[1;33m,\u001b[0m\u001b[0mgr\u001b[0m\u001b[1;33m,\u001b[0m\u001b[1;36m80\u001b[0m\u001b[1;33m,\u001b[0m\u001b[1;34m'gist_rainbow'\u001b[0m\u001b[1;33m,\u001b[0m\u001b[1;34m'P-Impedance (g/cc*m/s)'\u001b[0m\u001b[1;33m,\u001b[0m\u001b[1;34m'Vp/Vs'\u001b[0m\u001b[1;33m)\u001b[0m\u001b[1;33m\u001b[0m\u001b[0m\n\u001b[0m",
        "\u001b[1;32m<ipython-input-1-8f141c82b1ed>\u001b[0m in \u001b[0;36mmyxplot\u001b[1;34m(dep, dep1, dep2, x, y, z, dsize, cbar, xlab, ylab)\u001b[0m\n\u001b[0;32m      1\u001b[0m \u001b[1;32mdef\u001b[0m \u001b[0mmyxplot\u001b[0m\u001b[1;33m(\u001b[0m\u001b[0mdep\u001b[0m\u001b[1;33m,\u001b[0m\u001b[0mdep1\u001b[0m\u001b[1;33m,\u001b[0m\u001b[0mdep2\u001b[0m\u001b[1;33m,\u001b[0m\u001b[0mx\u001b[0m\u001b[1;33m,\u001b[0m\u001b[0my\u001b[0m\u001b[1;33m,\u001b[0m\u001b[0mz\u001b[0m\u001b[1;33m,\u001b[0m\u001b[0mdsize\u001b[0m\u001b[1;33m,\u001b[0m\u001b[0mcbar\u001b[0m\u001b[1;33m,\u001b[0m\u001b[0mxlab\u001b[0m\u001b[1;33m,\u001b[0m\u001b[0mylab\u001b[0m\u001b[1;33m)\u001b[0m\u001b[1;33m:\u001b[0m\u001b[1;33m\u001b[0m\u001b[0m\n\u001b[1;32m----> 2\u001b[1;33m     \u001b[1;32mimport\u001b[0m \u001b[0mmatplotlib\u001b[0m\u001b[1;33m.\u001b[0m\u001b[0mpyplot\u001b[0m \u001b[1;32mas\u001b[0m \u001b[0mplt\u001b[0m\u001b[1;33m\u001b[0m\u001b[0m\n\u001b[0m\u001b[0;32m      3\u001b[0m     \u001b[0mget_ipython\u001b[0m\u001b[1;33m(\u001b[0m\u001b[1;33m)\u001b[0m\u001b[1;33m.\u001b[0m\u001b[0mmagic\u001b[0m\u001b[1;33m(\u001b[0m\u001b[1;34mu'matplotlib inline'\u001b[0m\u001b[1;33m)\u001b[0m\u001b[1;33m\u001b[0m\u001b[0m\n\u001b[0;32m      4\u001b[0m \u001b[1;33m\u001b[0m\u001b[0m\n\u001b[0;32m      5\u001b[0m     \u001b[0mndat\u001b[0m \u001b[1;33m=\u001b[0m \u001b[0mlen\u001b[0m\u001b[1;33m(\u001b[0m\u001b[0mdep\u001b[0m\u001b[1;33m)\u001b[0m\u001b[1;33m\u001b[0m\u001b[0m\n",
        "\u001b[1;32m/home/leonard/Enthought/Canopy_64bit/User/lib/python2.7/site-packages/matplotlib/pyplot.py\u001b[0m in \u001b[0;36m<module>\u001b[1;34m()\u001b[0m\n\u001b[0;32m    107\u001b[0m \u001b[1;33m\u001b[0m\u001b[0m\n\u001b[0;32m    108\u001b[0m \u001b[1;32mfrom\u001b[0m \u001b[0mmatplotlib\u001b[0m\u001b[1;33m.\u001b[0m\u001b[0mbackends\u001b[0m \u001b[1;32mimport\u001b[0m \u001b[0mpylab_setup\u001b[0m\u001b[1;33m\u001b[0m\u001b[0m\n\u001b[1;32m--> 109\u001b[1;33m \u001b[0m_backend_mod\u001b[0m\u001b[1;33m,\u001b[0m \u001b[0mnew_figure_manager\u001b[0m\u001b[1;33m,\u001b[0m \u001b[0mdraw_if_interactive\u001b[0m\u001b[1;33m,\u001b[0m \u001b[0m_show\u001b[0m \u001b[1;33m=\u001b[0m \u001b[0mpylab_setup\u001b[0m\u001b[1;33m(\u001b[0m\u001b[1;33m)\u001b[0m\u001b[1;33m\u001b[0m\u001b[0m\n\u001b[0m\u001b[0;32m    110\u001b[0m \u001b[1;33m\u001b[0m\u001b[0m\n\u001b[0;32m    111\u001b[0m \u001b[1;33m\u001b[0m\u001b[0m\n",
        "\u001b[1;32m/home/leonard/Enthought/Canopy_64bit/User/lib/python2.7/site-packages/matplotlib/backends/__init__.pyc\u001b[0m in \u001b[0;36mpylab_setup\u001b[1;34m()\u001b[0m\n\u001b[0;32m     30\u001b[0m     \u001b[1;31m# imports. 0 means only perform absolute imports.\u001b[0m\u001b[1;33m\u001b[0m\u001b[1;33m\u001b[0m\u001b[0m\n\u001b[0;32m     31\u001b[0m     backend_mod = __import__(backend_name,\n\u001b[1;32m---> 32\u001b[1;33m                              globals(),locals(),[backend_name],0)\n\u001b[0m\u001b[0;32m     33\u001b[0m \u001b[1;33m\u001b[0m\u001b[0m\n\u001b[0;32m     34\u001b[0m     \u001b[1;31m# Things we pull in from all backends\u001b[0m\u001b[1;33m\u001b[0m\u001b[1;33m\u001b[0m\u001b[0m\n",
        "\u001b[1;32m/home/leonard/Enthought/Canopy_64bit/User/lib/python2.7/site-packages/matplotlib/backends/backend_wxagg.py\u001b[0m in \u001b[0;36m<module>\u001b[1;34m()\u001b[0m\n\u001b[0;32m      8\u001b[0m \u001b[1;33m\u001b[0m\u001b[0m\n\u001b[0;32m      9\u001b[0m \u001b[1;32mfrom\u001b[0m \u001b[1;33m.\u001b[0m\u001b[0mbackend_agg\u001b[0m \u001b[1;32mimport\u001b[0m \u001b[0mFigureCanvasAgg\u001b[0m\u001b[1;33m\u001b[0m\u001b[0m\n\u001b[1;32m---> 10\u001b[1;33m \u001b[1;32mfrom\u001b[0m \u001b[1;33m.\u001b[0m \u001b[1;32mimport\u001b[0m \u001b[0mbackend_wx\u001b[0m    \u001b[1;31m# already uses wxversion.ensureMinimal('2.8')\u001b[0m\u001b[1;33m\u001b[0m\u001b[0m\n\u001b[0m\u001b[0;32m     11\u001b[0m \u001b[1;32mfrom\u001b[0m \u001b[1;33m.\u001b[0m\u001b[0mbackend_wx\u001b[0m \u001b[1;32mimport\u001b[0m \u001b[0mFigureManagerWx\u001b[0m\u001b[1;33m,\u001b[0m \u001b[0mFigureCanvasWx\u001b[0m\u001b[1;33m,\u001b[0m\u001b[0;31m \u001b[0m\u001b[0;31m\\\u001b[0m\u001b[1;33m\u001b[0m\u001b[0m\n\u001b[0;32m     12\u001b[0m     \u001b[0mFigureFrameWx\u001b[0m\u001b[1;33m,\u001b[0m \u001b[0mDEBUG_MSG\u001b[0m\u001b[1;33m,\u001b[0m \u001b[0mNavigationToolbar2Wx\u001b[0m\u001b[1;33m,\u001b[0m \u001b[0merror_msg_wx\u001b[0m\u001b[1;33m,\u001b[0m\u001b[0;31m \u001b[0m\u001b[0;31m\\\u001b[0m\u001b[1;33m\u001b[0m\u001b[0m\n",
        "\u001b[1;32m/home/leonard/Enthought/Canopy_64bit/User/lib/python2.7/site-packages/matplotlib/backends/backend_wx.py\u001b[0m in \u001b[0;36m<module>\u001b[1;34m()\u001b[0m\n\u001b[0;32m     74\u001b[0m     \u001b[0mbackend_version\u001b[0m \u001b[1;33m=\u001b[0m \u001b[0mwx\u001b[0m\u001b[1;33m.\u001b[0m\u001b[0mVERSION_STRING\u001b[0m\u001b[1;33m\u001b[0m\u001b[0m\n\u001b[0;32m     75\u001b[0m \u001b[1;32mexcept\u001b[0m \u001b[0mImportError\u001b[0m\u001b[1;33m:\u001b[0m\u001b[1;33m\u001b[0m\u001b[0m\n\u001b[1;32m---> 76\u001b[1;33m     \u001b[1;32mraise\u001b[0m \u001b[0mImportError\u001b[0m\u001b[1;33m(\u001b[0m\u001b[0mmissingwx\u001b[0m\u001b[1;33m)\u001b[0m\u001b[1;33m\u001b[0m\u001b[0m\n\u001b[0m\u001b[0;32m     77\u001b[0m \u001b[1;33m\u001b[0m\u001b[0m\n\u001b[0;32m     78\u001b[0m \u001b[1;31m# Extra version check in case wxversion lacks AlreadyImportedError;\u001b[0m\u001b[1;33m\u001b[0m\u001b[1;33m\u001b[0m\u001b[0m\n",
        "\u001b[1;31mImportError\u001b[0m: Matplotlib backend_wx and backend_wxagg require wxPython >=2.8"
       ]
      }
     ],
     "prompt_number": 4
    },
    {
     "cell_type": "markdown",
     "metadata": {},
     "source": [
      "As you can see from the cross plot, the reservoir (indicated by low gamma ray in bright color) has lower Vp/Vs compared to the shale.\n",
      "\n",
      "It is known that the reservoir of interest with oil in it exists between 2153 m (top of oil sand) and 2183 m (oil-water contact). Also, the upper part of reservoir is cleaner sand while the lower part is shaly sand. We want to cross plot this so we rerun the cross plot using the parameter below where we use larger interval by choosing the top of interval to be shallower and base of interval to be deeper."
     ]
    },
    {
     "cell_type": "code",
     "collapsed": false,
     "input": [
      "myxplot(dep,2120,2220,ai,vpvs,gr,80,'gist_rainbow','P-Impedance (g/cc*m/s)','Vp/Vs')"
     ],
     "language": "python",
     "metadata": {},
     "outputs": []
    },
    {
     "cell_type": "markdown",
     "metadata": {},
     "source": [
      "The cross plot indicates two important things :\n",
      "\n",
      "- shale and reservoir can be separated by Vp/Vs\n",
      "- clean and shaly sand can be separated by P-impedance\n",
      "\n",
      "In other words, you need seismic inversion with multiple stack if we want to map the clean sand properly.\n",
      "Given the water saturation, we can replace gamma ray by water saturation to identify hydrocarbon sand in the cross plot.\n",
      "Another example of cross plot is shown in LambdaRho vs MuRho domain below.\n",
      "\n",
      "Again, you can see the separation of clean sand from shaly sand and shale."
     ]
    },
    {
     "cell_type": "code",
     "collapsed": false,
     "input": [
      "si = rho*vs*1000\n",
      "lrho = ai**2 - 2*si**2\n",
      "mrho = si**2\n",
      "myxplot(dep,2120,2220,lrho,mrho,gr,80,'gist_rainbow','LambdaRho (g/cc*m/s)^2','MuRho (g/cc*m/s)^2')"
     ],
     "language": "python",
     "metadata": {},
     "outputs": []
    },
    {
     "cell_type": "code",
     "collapsed": false,
     "input": [],
     "language": "python",
     "metadata": {},
     "outputs": []
    }
   ],
   "metadata": {}
  }
 ]
}
